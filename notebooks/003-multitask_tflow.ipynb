{
 "cells": [
  {
   "cell_type": "markdown",
   "metadata": {},
   "source": [
    "#### QAPP ID: I-CCED-0032994-QP-1-0\n",
    "#### Author: Matthew Adams\n",
    "#### Principal Investigator(s): Grace Patlewicz & Imran Shah\n",
    "#### Last Modified MM DD 2022"
   ]
  },
  {
   "cell_type": "markdown",
   "metadata": {},
   "source": [
    "### Notebook 0XXX: Multi-Task Learner Implementation\n"
   ]
  },
  {
   "cell_type": "code",
   "execution_count": 1,
   "metadata": {},
   "outputs": [
    {
     "name": "stderr",
     "output_type": "stream",
     "text": [
      "2022-11-02 08:15:49.848148: W tensorflow/stream_executor/platform/default/dso_loader.cc:64] Could not load dynamic library 'libcudart.so.11.0'; dlerror: libcudart.so.11.0: cannot open shared object file: No such file or directory\n",
      "2022-11-02 08:15:49.848200: I tensorflow/stream_executor/cuda/cudart_stub.cc:29] Ignore above cudart dlerror if you do not have a GPU set up on your machine.\n",
      "2022-11-02 08:15:49.884338: E tensorflow/stream_executor/cuda/cuda_blas.cc:2981] Unable to register cuBLAS factory: Attempting to register factory for plugin cuBLAS when one has already been registered\n",
      "2022-11-02 08:15:51.765940: W tensorflow/stream_executor/platform/default/dso_loader.cc:64] Could not load dynamic library 'libnvinfer.so.7'; dlerror: libnvinfer.so.7: cannot open shared object file: No such file or directory\n",
      "2022-11-02 08:15:51.766319: W tensorflow/stream_executor/platform/default/dso_loader.cc:64] Could not load dynamic library 'libnvinfer_plugin.so.7'; dlerror: libnvinfer_plugin.so.7: cannot open shared object file: No such file or directory\n",
      "2022-11-02 08:15:51.766340: W tensorflow/compiler/tf2tensorrt/utils/py_utils.cc:38] TF-TRT Warning: Cannot dlopen some TensorRT libraries. If you would like to use Nvidia GPU with TensorRT, please make sure the missing libraries mentioned above are installed properly.\n"
     ]
    }
   ],
   "source": [
    "import warnings\n",
    "warnings.simplefilter(action='ignore', category=FutureWarning)\n",
    "import functools\n",
    "import pandas as pd\n",
    "import matplotlib.pyplot as plt\n",
    "import sys\n",
    "from box import Box\n",
    "import deepchem as dc\n",
    "user = 'madams01'\n",
    "sys.path.append(f'/home/{user}/git_clones/copymltox/ml-tox/src')\n",
    "from genra.rax.skl.cls import *\n",
    "from sklearn.linear_model import LogisticRegression\n",
    "from mltox.ml.ml_oop_classifiers import MLClassifiers\n",
    "from mltox.db.mongo import *\n",
    "from mltox.db.bc import *\n",
    "from mltox.db.bio import *\n",
    "from mltox.db.chm import *\n",
    "import numpy\n",
    "import random\n",
    "import tensorflow as tf\n",
    "\n"
   ]
  },
  {
   "cell_type": "code",
   "execution_count": 2,
   "metadata": {},
   "outputs": [],
   "source": [
    "DB5 = openMongo(db='genra_dev_v5',host='pb.epa.gov',auth=True)"
   ]
  },
  {
   "cell_type": "code",
   "execution_count": 3,
   "metadata": {},
   "outputs": [],
   "source": [
    "def vote(x):\n",
    "    votes = list(x)\n",
    "    if sum(votes)/len(votes) < 0.5:\n",
    "        return 0\n",
    "    else:\n",
    "        return 1\n",
    "\n",
    "def get_multitask_data(Assay_list):\n",
    "    dfs = []\n",
    "    asy_list = []\n",
    "    for asy in Assay_list:\n",
    "        try:\n",
    "            Y1 = get_bio_activities(\n",
    "                                    DB5.toxcast_fp,\n",
    "                                    assay=asy,\n",
    "                                    fld='assay_component_name',\n",
    "                                    h0='0.7',\n",
    "                                    val='B1.1',\n",
    "                                    full=False\n",
    "                                    )\n",
    "            Y = Y1.groupby('dsstox_sid').agg(lambda x: vote(x)).reset_index()\n",
    "            if Y.shape[0] > 0:\n",
    "                 dfs.append(Y)\n",
    "                 asy_list.append(asy)\n",
    "        except:\n",
    "            pass\n",
    "    print('loop done')\n",
    "    df_final = functools.reduce(lambda left,right: pd.merge(left,right,on='dsstox_sid',how='outer'), dfs).fillna(-1)\n",
    "\n",
    "    cols = [asy for asy in asy_list]\n",
    "    cols.insert(0,'dsstox_sid')\n",
    "    Y1 = df_final[cols]\n",
    "\n",
    "    X1 = get_chm_FP(\n",
    "                    Y1.dsstox_sid,\n",
    "                    DB5.chms_fp,\n",
    "                    fp='mrgn',\n",
    "                    fill=np.uint(0)\n",
    "                    )\n",
    "\n",
    "    SID = set(X1.dsstox_sid.to_list()).intersection(Y1.dsstox_sid)\n",
    "\n",
    "    XY1 = X1.merge(Y1,on='dsstox_sid',how='right')\n",
    "    XY1 = XY1[XY1.dsstox_sid.isin(SID)]\n",
    "    \n",
    "    X = XY1[X1.columns[X1.columns!='dsstox_sid']]\n",
    "    Y = XY1[Y1.columns[Y1.columns!='dsstox_sid']]\n",
    "\n",
    "    return X,Y\n"
   ]
  },
  {
   "cell_type": "code",
   "execution_count": 4,
   "metadata": {},
   "outputs": [],
   "source": [
    "def load_data(assay_list,seed=42,cv=False,k=5):\n",
    "    X,Y =   get_multitask_data(assay_list)\n",
    "\n",
    "    dataset = dc.data.NumpyDataset(X,Y) \n",
    "\n",
    "    splitter = dc.splits.RandomStratifiedSplitter()\n",
    "\n",
    "    mydir = '/home/madams01/git_clones/copymltox/ml-tox/notebooks/ma'\n",
    "\n",
    "    if cv:\n",
    "        dir_lst = [f'{mydir}/tmp/k{i}' for i in range(2*k)]\n",
    "        datasets = splitter.k_fold_split(dataset,k=k,seed=seed,directories=dir_lst)\n",
    "        return datasets\n",
    "        \n",
    "    datasets = splitter.train_test_split(dataset,frac_train=0.8,seed=seed)\n",
    "    return [datasets]"
   ]
  },
  {
   "cell_type": "code",
   "execution_count": 5,
   "metadata": {},
   "outputs": [],
   "source": [
    "def multi_task_evaluate(Assay_list,dataset,seed):\n",
    "    splitter = dc.splits.RandomStratifiedSplitter()\n",
    "    train_dataset,test_dataset = splitter.train_test_split(dataset,frac_train=0.8,seed=seed)\n",
    "    n_tasks = dataset.y.shape[1]\n",
    "    n_features = dataset.X.shape[1]\n",
    "    model = dc.models.RobustMultitaskClassifier(n_tasks, n_features)\n",
    "    model.fit(train_dataset)\n",
    "    y_true = test_dataset.y\n",
    "    y_pred = model.predict(test_dataset)\n",
    "    metric = dc.metrics.roc_auc_score\n",
    "    scores = []\n",
    "    for i in range(n_tasks):\n",
    "        score = metric(dc.metrics.to_one_hot(y_true[:,i]), y_pred[:,i])\n",
    "        scores.append([Assay_list[i],score])\n",
    "    return scores"
   ]
  },
  {
   "cell_type": "code",
   "execution_count": 6,
   "metadata": {},
   "outputs": [
    {
     "name": "stdout",
     "output_type": "stream",
     "text": [
      "loop done\n"
     ]
    }
   ],
   "source": [
    "Assay_list = get_bio_assays(DB5.toxcast_assays)\n",
    "prefixes = set([i.split('_')[0] for i in Assay_list])\n",
    "subset_assays = [i for i in Assay_list if i.startswith('ATG_')]\n",
    "\n",
    "test_set = subset_assays\n",
    "\n",
    "x, y= get_multitask_data(test_set)\n",
    "\n"
   ]
  },
  {
   "cell_type": "code",
   "execution_count": 7,
   "metadata": {},
   "outputs": [],
   "source": [
    "random.seed(42)\n",
    "def assign_missing_values(X,counts):\n",
    "    p_hit = counts[1] /(counts[0] + counts[1])\n",
    "    p_nohit = 1 - p_hit\n",
    "    if X == -1:\n",
    "         X = random.choices((1,0),weights=[p_hit,p_nohit],k=1)[0]\n",
    "    return X\n",
    "\n",
    "def replace_missing_data(y,mode):\n",
    "    y_new = y.loc[:, ~(y== -1.0).sum()>-y.shape[0]*0.1]   #drop columns with > 10% missing data\n",
    "    if mode == 'impute':\n",
    "        for column in y_new:\n",
    "            if (y_new[column]==-1).any() and not (y_new[column]==-1).all():\n",
    "                counts = y_new[column].value_counts()\n",
    "                y_new[column] = y_new[column].apply(lambda x: assign_missing_values(x,counts))\n",
    "    elif mode == 'fill':\n",
    "        y_new = y_new.replace(-1,0)\n",
    "    elif mode == None:\n",
    "        pass\n",
    "    return y_new.apply(np.int64)"
   ]
  },
  {
   "cell_type": "code",
   "execution_count": 8,
   "metadata": {},
   "outputs": [
    {
     "data": {
      "text/html": [
       "<div>\n",
       "<style scoped>\n",
       "    .dataframe tbody tr th:only-of-type {\n",
       "        vertical-align: middle;\n",
       "    }\n",
       "\n",
       "    .dataframe tbody tr th {\n",
       "        vertical-align: top;\n",
       "    }\n",
       "\n",
       "    .dataframe thead th {\n",
       "        text-align: right;\n",
       "    }\n",
       "</style>\n",
       "<table border=\"1\" class=\"dataframe\">\n",
       "  <thead>\n",
       "    <tr style=\"text-align: right;\">\n",
       "      <th></th>\n",
       "      <th>ATG_AP_1_CIS</th>\n",
       "      <th>ATG_AP_2_CIS</th>\n",
       "      <th>ATG_AR_TRANS</th>\n",
       "      <th>ATG_Ahr_CIS</th>\n",
       "      <th>ATG_BRE_CIS</th>\n",
       "      <th>ATG_CAR_TRANS</th>\n",
       "      <th>ATG_CMV_CIS</th>\n",
       "      <th>ATG_CRE_CIS</th>\n",
       "      <th>ATG_C_EBP_CIS</th>\n",
       "      <th>ATG_DR4_LXR_CIS</th>\n",
       "      <th>...</th>\n",
       "      <th>ATG_Sp1_CIS</th>\n",
       "      <th>ATG_TAL_CIS</th>\n",
       "      <th>ATG_TA_CIS</th>\n",
       "      <th>ATG_TCF_b_cat_CIS</th>\n",
       "      <th>ATG_TGFb_CIS</th>\n",
       "      <th>ATG_THRa1_TRANS</th>\n",
       "      <th>ATG_VDRE_CIS</th>\n",
       "      <th>ATG_VDR_TRANS</th>\n",
       "      <th>ATG_Xbp1_CIS</th>\n",
       "      <th>ATG_p53_CIS</th>\n",
       "    </tr>\n",
       "  </thead>\n",
       "  <tbody>\n",
       "    <tr>\n",
       "      <th>0</th>\n",
       "      <td>0</td>\n",
       "      <td>1</td>\n",
       "      <td>0</td>\n",
       "      <td>0</td>\n",
       "      <td>0</td>\n",
       "      <td>0</td>\n",
       "      <td>1</td>\n",
       "      <td>0</td>\n",
       "      <td>1</td>\n",
       "      <td>0</td>\n",
       "      <td>...</td>\n",
       "      <td>1</td>\n",
       "      <td>0</td>\n",
       "      <td>0</td>\n",
       "      <td>0</td>\n",
       "      <td>0</td>\n",
       "      <td>0</td>\n",
       "      <td>0</td>\n",
       "      <td>0</td>\n",
       "      <td>0</td>\n",
       "      <td>0</td>\n",
       "    </tr>\n",
       "    <tr>\n",
       "      <th>1</th>\n",
       "      <td>0</td>\n",
       "      <td>0</td>\n",
       "      <td>0</td>\n",
       "      <td>0</td>\n",
       "      <td>0</td>\n",
       "      <td>0</td>\n",
       "      <td>0</td>\n",
       "      <td>0</td>\n",
       "      <td>0</td>\n",
       "      <td>0</td>\n",
       "      <td>...</td>\n",
       "      <td>0</td>\n",
       "      <td>0</td>\n",
       "      <td>0</td>\n",
       "      <td>0</td>\n",
       "      <td>1</td>\n",
       "      <td>0</td>\n",
       "      <td>0</td>\n",
       "      <td>0</td>\n",
       "      <td>0</td>\n",
       "      <td>0</td>\n",
       "    </tr>\n",
       "    <tr>\n",
       "      <th>2</th>\n",
       "      <td>0</td>\n",
       "      <td>0</td>\n",
       "      <td>0</td>\n",
       "      <td>1</td>\n",
       "      <td>0</td>\n",
       "      <td>0</td>\n",
       "      <td>0</td>\n",
       "      <td>0</td>\n",
       "      <td>0</td>\n",
       "      <td>0</td>\n",
       "      <td>...</td>\n",
       "      <td>0</td>\n",
       "      <td>0</td>\n",
       "      <td>0</td>\n",
       "      <td>0</td>\n",
       "      <td>1</td>\n",
       "      <td>0</td>\n",
       "      <td>0</td>\n",
       "      <td>0</td>\n",
       "      <td>0</td>\n",
       "      <td>0</td>\n",
       "    </tr>\n",
       "    <tr>\n",
       "      <th>3</th>\n",
       "      <td>0</td>\n",
       "      <td>0</td>\n",
       "      <td>0</td>\n",
       "      <td>1</td>\n",
       "      <td>0</td>\n",
       "      <td>0</td>\n",
       "      <td>0</td>\n",
       "      <td>0</td>\n",
       "      <td>0</td>\n",
       "      <td>0</td>\n",
       "      <td>...</td>\n",
       "      <td>0</td>\n",
       "      <td>0</td>\n",
       "      <td>0</td>\n",
       "      <td>0</td>\n",
       "      <td>0</td>\n",
       "      <td>0</td>\n",
       "      <td>0</td>\n",
       "      <td>0</td>\n",
       "      <td>0</td>\n",
       "      <td>0</td>\n",
       "    </tr>\n",
       "    <tr>\n",
       "      <th>4</th>\n",
       "      <td>1</td>\n",
       "      <td>0</td>\n",
       "      <td>1</td>\n",
       "      <td>1</td>\n",
       "      <td>0</td>\n",
       "      <td>0</td>\n",
       "      <td>1</td>\n",
       "      <td>1</td>\n",
       "      <td>1</td>\n",
       "      <td>0</td>\n",
       "      <td>...</td>\n",
       "      <td>1</td>\n",
       "      <td>1</td>\n",
       "      <td>1</td>\n",
       "      <td>0</td>\n",
       "      <td>0</td>\n",
       "      <td>0</td>\n",
       "      <td>1</td>\n",
       "      <td>1</td>\n",
       "      <td>1</td>\n",
       "      <td>1</td>\n",
       "    </tr>\n",
       "    <tr>\n",
       "      <th>...</th>\n",
       "      <td>...</td>\n",
       "      <td>...</td>\n",
       "      <td>...</td>\n",
       "      <td>...</td>\n",
       "      <td>...</td>\n",
       "      <td>...</td>\n",
       "      <td>...</td>\n",
       "      <td>...</td>\n",
       "      <td>...</td>\n",
       "      <td>...</td>\n",
       "      <td>...</td>\n",
       "      <td>...</td>\n",
       "      <td>...</td>\n",
       "      <td>...</td>\n",
       "      <td>...</td>\n",
       "      <td>...</td>\n",
       "      <td>...</td>\n",
       "      <td>...</td>\n",
       "      <td>...</td>\n",
       "      <td>...</td>\n",
       "      <td>...</td>\n",
       "    </tr>\n",
       "    <tr>\n",
       "      <th>3760</th>\n",
       "      <td>1</td>\n",
       "      <td>0</td>\n",
       "      <td>0</td>\n",
       "      <td>1</td>\n",
       "      <td>0</td>\n",
       "      <td>0</td>\n",
       "      <td>0</td>\n",
       "      <td>0</td>\n",
       "      <td>0</td>\n",
       "      <td>0</td>\n",
       "      <td>...</td>\n",
       "      <td>0</td>\n",
       "      <td>0</td>\n",
       "      <td>0</td>\n",
       "      <td>0</td>\n",
       "      <td>1</td>\n",
       "      <td>0</td>\n",
       "      <td>0</td>\n",
       "      <td>0</td>\n",
       "      <td>1</td>\n",
       "      <td>0</td>\n",
       "    </tr>\n",
       "    <tr>\n",
       "      <th>3761</th>\n",
       "      <td>0</td>\n",
       "      <td>0</td>\n",
       "      <td>0</td>\n",
       "      <td>1</td>\n",
       "      <td>0</td>\n",
       "      <td>0</td>\n",
       "      <td>0</td>\n",
       "      <td>0</td>\n",
       "      <td>0</td>\n",
       "      <td>1</td>\n",
       "      <td>...</td>\n",
       "      <td>0</td>\n",
       "      <td>0</td>\n",
       "      <td>0</td>\n",
       "      <td>0</td>\n",
       "      <td>1</td>\n",
       "      <td>0</td>\n",
       "      <td>0</td>\n",
       "      <td>0</td>\n",
       "      <td>0</td>\n",
       "      <td>0</td>\n",
       "    </tr>\n",
       "    <tr>\n",
       "      <th>3762</th>\n",
       "      <td>0</td>\n",
       "      <td>0</td>\n",
       "      <td>0</td>\n",
       "      <td>0</td>\n",
       "      <td>0</td>\n",
       "      <td>0</td>\n",
       "      <td>0</td>\n",
       "      <td>0</td>\n",
       "      <td>0</td>\n",
       "      <td>0</td>\n",
       "      <td>...</td>\n",
       "      <td>0</td>\n",
       "      <td>0</td>\n",
       "      <td>0</td>\n",
       "      <td>0</td>\n",
       "      <td>0</td>\n",
       "      <td>0</td>\n",
       "      <td>0</td>\n",
       "      <td>0</td>\n",
       "      <td>0</td>\n",
       "      <td>0</td>\n",
       "    </tr>\n",
       "    <tr>\n",
       "      <th>3763</th>\n",
       "      <td>0</td>\n",
       "      <td>0</td>\n",
       "      <td>0</td>\n",
       "      <td>1</td>\n",
       "      <td>0</td>\n",
       "      <td>0</td>\n",
       "      <td>0</td>\n",
       "      <td>0</td>\n",
       "      <td>0</td>\n",
       "      <td>0</td>\n",
       "      <td>...</td>\n",
       "      <td>0</td>\n",
       "      <td>0</td>\n",
       "      <td>0</td>\n",
       "      <td>0</td>\n",
       "      <td>0</td>\n",
       "      <td>0</td>\n",
       "      <td>0</td>\n",
       "      <td>0</td>\n",
       "      <td>0</td>\n",
       "      <td>0</td>\n",
       "    </tr>\n",
       "    <tr>\n",
       "      <th>3770</th>\n",
       "      <td>1</td>\n",
       "      <td>1</td>\n",
       "      <td>0</td>\n",
       "      <td>0</td>\n",
       "      <td>1</td>\n",
       "      <td>1</td>\n",
       "      <td>1</td>\n",
       "      <td>0</td>\n",
       "      <td>1</td>\n",
       "      <td>1</td>\n",
       "      <td>...</td>\n",
       "      <td>1</td>\n",
       "      <td>0</td>\n",
       "      <td>1</td>\n",
       "      <td>1</td>\n",
       "      <td>1</td>\n",
       "      <td>0</td>\n",
       "      <td>1</td>\n",
       "      <td>0</td>\n",
       "      <td>1</td>\n",
       "      <td>0</td>\n",
       "    </tr>\n",
       "  </tbody>\n",
       "</table>\n",
       "<p>3476 rows × 81 columns</p>\n",
       "</div>"
      ],
      "text/plain": [
       "      ATG_AP_1_CIS  ATG_AP_2_CIS  ATG_AR_TRANS  ATG_Ahr_CIS  ATG_BRE_CIS  \\\n",
       "0                0             1             0            0            0   \n",
       "1                0             0             0            0            0   \n",
       "2                0             0             0            1            0   \n",
       "3                0             0             0            1            0   \n",
       "4                1             0             1            1            0   \n",
       "...            ...           ...           ...          ...          ...   \n",
       "3760             1             0             0            1            0   \n",
       "3761             0             0             0            1            0   \n",
       "3762             0             0             0            0            0   \n",
       "3763             0             0             0            1            0   \n",
       "3770             1             1             0            0            1   \n",
       "\n",
       "      ATG_CAR_TRANS  ATG_CMV_CIS  ATG_CRE_CIS  ATG_C_EBP_CIS  ATG_DR4_LXR_CIS  \\\n",
       "0                 0            1            0              1                0   \n",
       "1                 0            0            0              0                0   \n",
       "2                 0            0            0              0                0   \n",
       "3                 0            0            0              0                0   \n",
       "4                 0            1            1              1                0   \n",
       "...             ...          ...          ...            ...              ...   \n",
       "3760              0            0            0              0                0   \n",
       "3761              0            0            0              0                1   \n",
       "3762              0            0            0              0                0   \n",
       "3763              0            0            0              0                0   \n",
       "3770              1            1            0              1                1   \n",
       "\n",
       "      ...  ATG_Sp1_CIS  ATG_TAL_CIS  ATG_TA_CIS  ATG_TCF_b_cat_CIS  \\\n",
       "0     ...            1            0           0                  0   \n",
       "1     ...            0            0           0                  0   \n",
       "2     ...            0            0           0                  0   \n",
       "3     ...            0            0           0                  0   \n",
       "4     ...            1            1           1                  0   \n",
       "...   ...          ...          ...         ...                ...   \n",
       "3760  ...            0            0           0                  0   \n",
       "3761  ...            0            0           0                  0   \n",
       "3762  ...            0            0           0                  0   \n",
       "3763  ...            0            0           0                  0   \n",
       "3770  ...            1            0           1                  1   \n",
       "\n",
       "      ATG_TGFb_CIS  ATG_THRa1_TRANS  ATG_VDRE_CIS  ATG_VDR_TRANS  \\\n",
       "0                0                0             0              0   \n",
       "1                1                0             0              0   \n",
       "2                1                0             0              0   \n",
       "3                0                0             0              0   \n",
       "4                0                0             1              1   \n",
       "...            ...              ...           ...            ...   \n",
       "3760             1                0             0              0   \n",
       "3761             1                0             0              0   \n",
       "3762             0                0             0              0   \n",
       "3763             0                0             0              0   \n",
       "3770             1                0             1              0   \n",
       "\n",
       "      ATG_Xbp1_CIS  ATG_p53_CIS  \n",
       "0                0            0  \n",
       "1                0            0  \n",
       "2                0            0  \n",
       "3                0            0  \n",
       "4                1            1  \n",
       "...            ...          ...  \n",
       "3760             1            0  \n",
       "3761             0            0  \n",
       "3762             0            0  \n",
       "3763             0            0  \n",
       "3770             1            0  \n",
       "\n",
       "[3476 rows x 81 columns]"
      ]
     },
     "execution_count": 8,
     "metadata": {},
     "output_type": "execute_result"
    }
   ],
   "source": [
    "y_new = replace_missing_data(y,'fill')\n",
    "y_new"
   ]
  },
  {
   "cell_type": "code",
   "execution_count": 9,
   "metadata": {
    "scrolled": true
   },
   "outputs": [
    {
     "name": "stderr",
     "output_type": "stream",
     "text": [
      "/home/madams01/anaconda3/envs/tflow/lib/python3.9/site-packages/seaborn/matrix.py:654: UserWarning: Clustering large matrix with scipy. Installing `fastcluster` may give better performance.\n",
      "  warnings.warn(msg)\n"
     ]
    },
    {
     "data": {
      "text/plain": [
       "Text(0.5, 73.5, 'ASSAY')"
      ]
     },
     "execution_count": 9,
     "metadata": {},
     "output_type": "execute_result"
    },
    {
     "data": {
      "image/png": "[encoded data removed]",
      "text/plain": [
       "<Figure size 864x648 with 4 Axes>"
      ]
     },
     "metadata": {
      "needs_background": "light"
     },
     "output_type": "display_data"
    }
   ],
   "source": [
    "import seaborn as sns\n",
    "g = sns.clustermap(\n",
    "        y_new,\n",
    "        figsize=(12, 9),\n",
    "        row_cluster=True,\n",
    "        col_cluster=True,\n",
    "        xticklabels=False,\n",
    "        yticklabels=False,\n",
    "        cmap=\"Reds\",\n",
    "        cbar_pos=(0.05, 0.8, .03, .25),\n",
    "        cbar_kws={\"ticks\":[-1,0,1]}\n",
    "    )\n",
    "\n",
    "ax = g.ax_heatmap\n",
    "ax.set_title('Chemical Hitcs across assays',fontsize=24)\n",
    "ax.set_ylabel('DTXSID',fontsize=20)\n",
    "ax.set_xlabel('ASSAY',fontsize=20)"
   ]
  },
  {
   "cell_type": "code",
   "execution_count": 10,
   "metadata": {},
   "outputs": [
    {
     "data": {
      "text/plain": [
       "(0.0, 50.0)"
      ]
     },
     "execution_count": 10,
     "metadata": {},
     "output_type": "execute_result"
    },
    {
     "data": {
      "image/png": "[encoded data removed]",
      "text/plain": [
       "<Figure size 648x432 with 1 Axes>"
      ]
     },
     "metadata": {},
     "output_type": "display_data"
    }
   ],
   "source": [
    "hits = (y_new==1).sum()\n",
    "sns.set(rc={\"figure.figsize\":(9, 6)}) \n",
    "\n",
    "g = sns.histplot(hits,bins=20)\n",
    "g.set_xlabel('Number of Positive Hits',fontsize=14)\n",
    "g.set_ylabel('Assay Count',fontsize=14)\n",
    "g.set_title('Distribution of Chemical Hits across assays \\n with no missing data ',fontsize=20)\n",
    "g.set_ylim(0,50)"
   ]
  },
  {
   "cell_type": "code",
   "execution_count": 11,
   "metadata": {},
   "outputs": [],
   "source": [
    "tf.random.set_seed(0)\n",
    "np.random.seed(0)\n",
    "random.seed(0)\n",
    "def eval_assays(x,y,seed):\n",
    "    dataset = dc.data.NumpyDataset(x,y) \n",
    "    Assay_list = y.columns.tolist()\n",
    "    splitter = dc.splits.RandomStratifiedSplitter()\n",
    "    train_dataset,test_dataset = splitter.train_test_split(dataset,frac_train=0.8,seed=seed)\n",
    "    n_tasks = dataset.y.shape[1]\n",
    "    n_features = dataset.X.shape[1]\n",
    "    model = dc.models.RobustMultitaskClassifier(n_tasks, n_features)\n",
    "    model.fit(train_dataset)\n",
    "    y_true = test_dataset.y\n",
    "    y_pred = model.predict(test_dataset)\n",
    "    metric = dc.metrics.roc_auc_score\n",
    "    scores = []\n",
    "    for i in range(n_tasks):\n",
    "        score = metric(dc.metrics.to_one_hot(y_true[:,i]), y_pred[:,i])\n",
    "        scores.append([Assay_list[i],score])\n",
    "    return scores\n"
   ]
  },
  {
   "cell_type": "code",
   "execution_count": 12,
   "metadata": {},
   "outputs": [],
   "source": [
    "tf.random.set_seed(0)\n",
    "np.random.seed(0)\n",
    "random.seed(0)\n",
    "import os\n",
    "\n",
    "def eval_assays_sub(x,y,subsample=False,subsample_fraction=0.8,seed=0):\n",
    "    dataset = dc.data.NumpyDataset(x,y) \n",
    "    Assay_list = y.columns.tolist()\n",
    "    splitter = dc.splits.RandomStratifiedSplitter()\n",
    "    if subsample:\n",
    "        dataset, _, _ = splitter.train_valid_test_split(dataset,frac_train=subsample_fraction,frac_valid=0.0,frac_test=0.0,seed=seed,\n",
    "                                            test_dir=f'{os.getcwd()}/tmp_test_data/',\n",
    "                                            train_dir=f'{os.getcwd()}/tmp_train_data/',\n",
    "                                            valid_dir=f'{os.getcwd()}/tmp_valid_data/')\n",
    "    print(dataset.X.shape)\n",
    "    train_dataset, _ ,test_dataset = splitter.train_valid_test_split(dataset,frac_train=0.8,frac_test=0.2,frac_valid=0.0,seed=seed,               \n",
    "                                                            test_dir=f'{os.getcwd()}/tmp_test_data/',\n",
    "                                                            train_dir=f'{os.getcwd()}/tmp_train_data/',\n",
    "                                                            valid_dir=f'{os.getcwd()}/tmp_valid_data/')\n",
    "    n_tasks = dataset.y.shape[1]\n",
    "    n_features = dataset.X.shape[1]\n",
    "    model = dc.models.RobustMultitaskClassifier(n_tasks, n_features,layer_sizes=[500],model_dir=f'{os.getcwd()}/tmp_mtl_model/')\n",
    "    model.fit(train_dataset)\n",
    "    y_true = test_dataset.y\n",
    "    y_pred = model.predict(test_dataset)\n",
    "    metric = dc.metrics.roc_auc_score\n",
    "    scores = []\n",
    "    for i in range(n_tasks):\n",
    "        score = metric(dc.metrics.to_one_hot(y_true[:,i]), y_pred[:,i])\n",
    "        scores.append([Assay_list[i],score])\n",
    "    return scores"
   ]
  },
  {
   "cell_type": "code",
   "execution_count": 13,
   "metadata": {},
   "outputs": [
    {
     "name": "stdout",
     "output_type": "stream",
     "text": [
      "(3476, 2048)\n"
     ]
    },
    {
     "name": "stderr",
     "output_type": "stream",
     "text": [
      "2022-11-02 08:18:08.623114: W tensorflow/stream_executor/platform/default/dso_loader.cc:64] Could not load dynamic library 'libcuda.so.1'; dlerror: libcuda.so.1: cannot open shared object file: No such file or directory\n",
      "2022-11-02 08:18:08.624056: W tensorflow/stream_executor/cuda/cuda_driver.cc:263] failed call to cuInit: UNKNOWN ERROR (303)\n",
      "2022-11-02 08:18:08.624104: I tensorflow/stream_executor/cuda/cuda_diagnostics.cc:156] kernel driver does not appear to be running on this host (v2626umcth033.rtord.epa.gov): /proc/driver/nvidia/version does not exist\n"
     ]
    },
    {
     "name": "stdout",
     "output_type": "stream",
     "text": [
      "(3476, 2048)\n",
      "(3476, 2048)\n",
      "WARNING:tensorflow:5 out of the last 15 calls to <function KerasModel._compute_model at 0x7f9edb67d4c0> triggered tf.function retracing. Tracing is expensive and the excessive number of tracings could be due to (1) creating @tf.function repeatedly in a loop, (2) passing tensors with different shapes, (3) passing Python objects instead of tensors. For (1), please define your @tf.function outside of the loop. For (2), @tf.function has reduce_retracing=True option that can avoid unnecessary retracing. For (3), please refer to https://www.tensorflow.org/guide/function#controlling_retracing and https://www.tensorflow.org/api_docs/python/tf/function for  more details.\n",
      "(3476, 2048)\n",
      "WARNING:tensorflow:5 out of the last 15 calls to <function KerasModel._compute_model at 0x7f9edac92b80> triggered tf.function retracing. Tracing is expensive and the excessive number of tracings could be due to (1) creating @tf.function repeatedly in a loop, (2) passing tensors with different shapes, (3) passing Python objects instead of tensors. For (1), please define your @tf.function outside of the loop. For (2), @tf.function has reduce_retracing=True option that can avoid unnecessary retracing. For (3), please refer to https://www.tensorflow.org/guide/function#controlling_retracing and https://www.tensorflow.org/api_docs/python/tf/function for  more details.\n",
      "(3476, 2048)\n",
      "(3476, 2048)\n",
      "(3476, 2048)\n",
      "(3476, 2048)\n",
      "(3476, 2048)\n",
      "(3476, 2048)\n",
      "(3476, 2048)\n",
      "(3476, 2048)\n",
      "(3476, 2048)\n",
      "(3476, 2048)\n",
      "(3476, 2048)\n",
      "(3476, 2048)\n",
      "(3476, 2048)\n",
      "(3476, 2048)\n",
      "(3476, 2048)\n",
      "(3476, 2048)\n"
     ]
    }
   ],
   "source": [
    "tf.random.set_seed(0)\n",
    "np.random.seed(0)\n",
    "random.seed(0)\n",
    "\n",
    "data = []\n",
    "for i in range(20):\n",
    "    myscores = eval_assays_sub(x,y_new,subsample=True,subsample_fraction=1.0,seed=i)\n",
    "    mydata = pd.DataFrame(myscores)\n",
    "    data.append(mydata)\n",
    "    "
   ]
  },
  {
   "cell_type": "code",
   "execution_count": 14,
   "metadata": {},
   "outputs": [
    {
     "data": {
      "text/plain": [
       "1    0.632631\n",
       "dtype: float64"
      ]
     },
     "execution_count": 14,
     "metadata": {},
     "output_type": "execute_result"
    }
   ],
   "source": [
    "df_tmp = pd.concat(data,axis=0)\n",
    "\n",
    "df_tmp.to_pickle('mtl_models/bypass/mtl_bypass_500_1layer_20_100_data.pkl')\n",
    "\n",
    "df_tmp.groupby(0).mean().mean()"
   ]
  },
  {
   "cell_type": "code",
   "execution_count": 39,
   "metadata": {},
   "outputs": [],
   "source": [
    "data = []\n",
    "for i in range(20):\n",
    "    myscores = eval_assays(x,y_new,i)\n",
    "    mydata = pd.DataFrame(myscores)\n",
    "    data.append(mydata)"
   ]
  },
  {
   "cell_type": "code",
   "execution_count": 42,
   "metadata": {},
   "outputs": [],
   "source": [
    "df_20 = pd.concat(data,axis=0).groupby(0).mean()\n",
    "\n",
    "df_20.to_pickle('mtl_bypass_20.pkl')"
   ]
  },
  {
   "cell_type": "code",
   "execution_count": 43,
   "metadata": {},
   "outputs": [
    {
     "data": {
      "text/plain": [
       "(0.5, 0.8)"
      ]
     },
     "execution_count": 43,
     "metadata": {},
     "output_type": "execute_result"
    },
    {
     "data": {
      "image/png": "[encoded data removed]",
      "text/plain": [
       "<Figure size 648x432 with 1 Axes>"
      ]
     },
     "metadata": {},
     "output_type": "display_data"
    }
   ],
   "source": [
    "g = sns.histplot(df_20,bins=20)\n",
    "g.set_xlabel('ROC AUC',fontsize=14)\n",
    "g.set_ylabel('Assay Count',fontsize=14)\n",
    "g.set_title('Distribution of ROC-AUC For MultiTask Bypass Learning across assays \\n (missing data imputed)',fontsize=20)\n",
    "g.set_xlim(0.5,0.8)"
   ]
  },
  {
   "cell_type": "code",
   "execution_count": 45,
   "metadata": {},
   "outputs": [
    {
     "data": {
      "text/plain": [
       "1    0.063886\n",
       "dtype: float64"
      ]
     },
     "execution_count": 45,
     "metadata": {},
     "output_type": "execute_result"
    }
   ],
   "source": [
    "df_20.std()\n"
   ]
  },
  {
   "cell_type": "code",
   "execution_count": null,
   "metadata": {},
   "outputs": [],
   "source": []
  }
 ],
 "metadata": {
  "kernelspec": {
   "display_name": "Python 3 (ipykernel)",
   "language": "python",
   "name": "python3"
  },
  "language_info": {
   "codemirror_mode": {
    "name": "ipython",
    "version": 3
   },
   "file_extension": ".py",
   "mimetype": "text/x-python",
   "name": "python",
   "nbconvert_exporter": "python",
   "pygments_lexer": "ipython3",
   "version": "3.9.18"
  },
  "vscode": {
   "interpreter": {
    "hash": "4186525184191ece2b32d9d47d0f5b9c6c11fb366e3f1e5fd6f0c212286a3113"
   }
  }
 },
 "nbformat": 4,
 "nbformat_minor": 4
}
