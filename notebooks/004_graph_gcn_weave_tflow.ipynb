{
 "cells": [
  {
   "cell_type": "code",
   "execution_count": 2,
   "metadata": {},
   "outputs": [
    {
     "name": "stderr",
     "output_type": "stream",
     "text": [
      "Skipped loading some Jax models, missing a dependency. No module named 'haiku'\n"
     ]
    }
   ],
   "source": [
    "%load_ext autoreload\n",
    "%autoreload 2\n",
    "\n",
    "import pandas as pd\n",
    "\n",
    "import matplotlib.pyplot as plt\n",
    "import sys\n",
    "import os\n",
    "# import warnings\n",
    "# warnings.filterwarnings('ignore')\n",
    "\n",
    "#user = 'madams01'\n",
    "#sys.path.append(f'/home/{user}/git_clones/copymltox/ml-tox/src')\n",
    "sys.path.append(\"/home/ishah/ipynb/ml-tox/src\")\n",
    "from sklearn.linear_model import LogisticRegression\n",
    "from mltox.db.mongo import *\n",
    "from mltox.db.bc import *\n",
    "from mltox.db.bio import *\n",
    "from mltox.db.graph_utils import *\n",
    "\n",
    "import functools\n",
    "import deepchem as dc\n",
    "import tensorflow as tf\n",
    "import random"
   ]
  },
  {
   "cell_type": "code",
   "execution_count": 11,
   "metadata": {},
   "outputs": [],
   "source": [
    "DB5 = openMongo(db='genra_dev_v5',host='localhost',auth=False)"
   ]
  },
  {
   "cell_type": "code",
   "execution_count": 12,
   "metadata": {},
   "outputs": [
    {
     "data": {
      "text/plain": [
       "Database(MongoClient(host=['localhost:27017'], document_class=dict, tz_aware=False, connect=True), 'genra_dev_v5')"
      ]
     },
     "execution_count": 12,
     "metadata": {},
     "output_type": "execute_result"
    }
   ],
   "source": [
    "DB5"
   ]
  },
  {
   "cell_type": "code",
   "execution_count": 4,
   "metadata": {},
   "outputs": [
    {
     "data": {
      "text/plain": [
       "'/home/ishah/ipynb/ml-tox/notebooks/ma'"
      ]
     },
     "execution_count": 4,
     "metadata": {},
     "output_type": "execute_result"
    }
   ],
   "source": [
    "os.getcwd()"
   ]
  },
  {
   "cell_type": "code",
   "execution_count": 5,
   "metadata": {},
   "outputs": [],
   "source": [
    "Assay_list = get_bio_assays(DB5.toxcast_assays)\n",
    "prefixes = set([i.split('_')[0] for i in Assay_list])\n",
    "\n",
    "prefix_list = []\n",
    "for pre in prefixes:\n",
    "        subset_assays = [i for i in Assay_list if i.startswith(pre)]\n",
    "        if len(subset_assays) > 50:\n",
    "            prefix_list.append((pre,len(subset_assays)))\n"
   ]
  },
  {
   "cell_type": "code",
   "execution_count": 6,
   "metadata": {},
   "outputs": [
    {
     "data": {
      "text/plain": [
       "[('ATG', 133), ('LTEA', 102), ('BSK', 87), ('NVS', 286), ('TOX21', 276)]"
      ]
     },
     "execution_count": 6,
     "metadata": {},
     "output_type": "execute_result"
    }
   ],
   "source": [
    "prefix_list"
   ]
  },
  {
   "cell_type": "code",
   "execution_count": 7,
   "metadata": {
    "scrolled": true
   },
   "outputs": [
    {
     "data": {
      "text/plain": [
       "['ATG_AP_1_CIS',\n",
       " 'ATG_AP_2_CIS',\n",
       " 'ATG_AR_TRANS',\n",
       " 'ATG_Ahr_CIS',\n",
       " 'ATG_BRE_CIS',\n",
       " 'ATG_CAR_TRANS',\n",
       " 'ATG_CMV_CIS',\n",
       " 'ATG_COUP_TF1_TRANS2',\n",
       " 'ATG_COUP_TF2_TRANS2',\n",
       " 'ATG_CRE_CIS',\n",
       " 'ATG_C_EBP_CIS',\n",
       " 'ATG_DAX1_TRANS2',\n",
       " 'ATG_DR4_LXR_CIS',\n",
       " 'ATG_DR5_RAR_CIS',\n",
       " 'ATG_E2F_CIS',\n",
       " 'ATG_EAR2_TRANS2',\n",
       " 'ATG_EGR_CIS',\n",
       " 'ATG_ERE_CIS',\n",
       " 'ATG_ERRa_TRANS',\n",
       " 'ATG_ERRb_TRANS2',\n",
       " 'ATG_ERRg_TRANS',\n",
       " 'ATG_ERa_TRANS',\n",
       " 'ATG_ERb_TRANS2',\n",
       " 'ATG_E_Box_CIS',\n",
       " 'ATG_Ets_CIS',\n",
       " 'ATG_FXR_TRANS',\n",
       " 'ATG_FoxA2_CIS',\n",
       " 'ATG_FoxO_CIS',\n",
       " 'ATG_GAL4_TRANS',\n",
       " 'ATG_GATA_CIS',\n",
       " 'ATG_GCNF_TRANS2',\n",
       " 'ATG_GLI_CIS',\n",
       " 'ATG_GPCR_ADORA2A_TRANS',\n",
       " 'ATG_GPCR_ADORA2B_TRANS',\n",
       " 'ATG_GPCR_ADRA1A_TRANS',\n",
       " 'ATG_GPCR_ADRA2B_TRANS',\n",
       " 'ATG_GPCR_ADRB2_TRANS',\n",
       " 'ATG_GPCR_ADRB3_TRANS',\n",
       " 'ATG_GPCR_CHRM3_TRANS',\n",
       " 'ATG_GPCR_DRD1_TRANS',\n",
       " 'ATG_GPCR_DRD5_TRANS',\n",
       " 'ATG_GPCR_EDNRA_TRANS',\n",
       " 'ATG_GPCR_GCGR_TRANS',\n",
       " 'ATG_GPCR_GPBAR1_TRANS',\n",
       " 'ATG_GPCR_GPR40_TRANS',\n",
       " 'ATG_GPCR_GQ_TRANS',\n",
       " 'ATG_GPCR_GS1_TRANS',\n",
       " 'ATG_GPCR_GS_TRANS',\n",
       " 'ATG_GPCR_HRH1_TRANS',\n",
       " 'ATG_GPCR_HTR6_TRANS',\n",
       " 'ATG_GPCR_HTR7_TRANS',\n",
       " 'ATG_GPCR_LPAR4_TRANS',\n",
       " 'ATG_GPCR_MC1R_TRANS',\n",
       " 'ATG_GPCR_MC2R_TRANS',\n",
       " 'ATG_GPCR_MC3R_TRANS',\n",
       " 'ATG_GPCR_MC4R_TRANS',\n",
       " 'ATG_GPCR_PTGDR_TRANS',\n",
       " 'ATG_GPCR_PTGIR_TRANS',\n",
       " 'ATG_GRE_CIS',\n",
       " 'ATG_GR_TRANS',\n",
       " 'ATG_HIF1a_CIS',\n",
       " 'ATG_HNF4a_TRANS',\n",
       " 'ATG_HNF4g_TRANS2',\n",
       " 'ATG_HNF6_CIS',\n",
       " 'ATG_HSE_CIS',\n",
       " 'ATG_Hpa5_TRANS',\n",
       " 'ATG_IR1_CIS',\n",
       " 'ATG_ISRE_CIS',\n",
       " 'ATG_LRH1_TRANS2',\n",
       " 'ATG_LXRa_TRANS',\n",
       " 'ATG_LXRb_TRANS',\n",
       " 'ATG_MRE_CIS',\n",
       " 'ATG_MR_TRANS2',\n",
       " 'ATG_M_06_CIS',\n",
       " 'ATG_M_06_TRANS',\n",
       " 'ATG_M_19_CIS',\n",
       " 'ATG_M_19_TRANS',\n",
       " 'ATG_M_32_CIS',\n",
       " 'ATG_M_32_TRANS',\n",
       " 'ATG_M_61_CIS',\n",
       " 'ATG_M_61_TRANS',\n",
       " 'ATG_Myb_CIS',\n",
       " 'ATG_Myc_CIS',\n",
       " 'ATG_NFI_CIS',\n",
       " 'ATG_NF_kB_CIS',\n",
       " 'ATG_NOR1_TRANS2',\n",
       " 'ATG_NRF1_CIS',\n",
       " 'ATG_NRF2_ARE_CIS',\n",
       " 'ATG_NUR77_TRANS2',\n",
       " 'ATG_NURR1_TRANS',\n",
       " 'ATG_Oct_MLP_CIS',\n",
       " 'ATG_PBREM_CIS',\n",
       " 'ATG_PNR_TRANS2',\n",
       " 'ATG_PPARa_TRANS',\n",
       " 'ATG_PPARd_TRANS',\n",
       " 'ATG_PPARg_TRANS',\n",
       " 'ATG_PPRE_CIS',\n",
       " 'ATG_PR_TRANS2',\n",
       " 'ATG_PXRE_CIS',\n",
       " 'ATG_PXR_TRANS',\n",
       " 'ATG_Pax6_CIS',\n",
       " 'ATG_RARa_TRANS',\n",
       " 'ATG_RARb_TRANS',\n",
       " 'ATG_RARg_TRANS',\n",
       " 'ATG_RORE_CIS',\n",
       " 'ATG_RORa_TRANS2',\n",
       " 'ATG_RORb_TRANS',\n",
       " 'ATG_RORg_TRANS',\n",
       " 'ATG_RXRa_TRANS',\n",
       " 'ATG_RXRb_TRANS',\n",
       " 'ATG_RXRg_TRANS2',\n",
       " 'ATG_Rev_ERB_A_TRANS2',\n",
       " 'ATG_Rev_ERB_B_TRANS2',\n",
       " 'ATG_SF_1_TRANS2',\n",
       " 'ATG_SHP_TRANS2',\n",
       " 'ATG_SREBP_CIS',\n",
       " 'ATG_STAT3_CIS',\n",
       " 'ATG_Sox_CIS',\n",
       " 'ATG_Sp1_CIS',\n",
       " 'ATG_TAL_CIS',\n",
       " 'ATG_TA_CIS',\n",
       " 'ATG_TCF_b_cat_CIS',\n",
       " 'ATG_TGFb_CIS',\n",
       " 'ATG_THRa1_TRANS',\n",
       " 'ATG_THRb_TRANS2',\n",
       " 'ATG_TLX_TRANS2',\n",
       " 'ATG_TR2_TRANS2',\n",
       " 'ATG_TR4_TRANS2',\n",
       " 'ATG_VDRE_CIS',\n",
       " 'ATG_VDR_TRANS',\n",
       " 'ATG_XTT_Cytotoxicity',\n",
       " 'ATG_Xbp1_CIS',\n",
       " 'ATG_p53_CIS']"
      ]
     },
     "execution_count": 7,
     "metadata": {},
     "output_type": "execute_result"
    }
   ],
   "source": [
    "subset_assays = [i for i in Assay_list if i.startswith('ATG')]\n",
    "\n",
    "len(subset_assays)\n",
    "subset_assays"
   ]
  },
  {
   "cell_type": "code",
   "execution_count": 9,
   "metadata": {},
   "outputs": [
    {
     "data": {
      "text/plain": [
       "'fits.assay_component_name_1'"
      ]
     },
     "execution_count": 9,
     "metadata": {},
     "output_type": "execute_result"
    }
   ],
   "source": [
    "DB5.toxcast_fp.create_index('dsstox_sid')\n",
    "DB5.toxcast_fp.create_index('fits.assay_component_name')"
   ]
  },
  {
   "cell_type": "code",
   "execution_count": null,
   "metadata": {
    "scrolled": true
   },
   "outputs": [],
   "source": [
    "from mltox.db.graph_utils import *\n",
    "Y0 = get_bio_data(DB5,subset_assays)"
   ]
  },
  {
   "cell_type": "code",
   "execution_count": 41,
   "metadata": {
    "scrolled": true
   },
   "outputs": [],
   "source": [
    "X0 = get_chm_data(DB5,Y0.dsstox_sid.tolist())\n",
    "\n",
    "# if os.path.exists('ATG/X_smiles.pkl') and os.path.exists('ATG/Y_smiles.pkl'):\n",
    "#         X = pd.read_pickle('ATG/X_smiles.pkl')\n",
    "#         Y = pd.read_pickle('ATG/Y_smiles.pkl')\n",
    "# else:\n",
    "#     X.to_pickle('X_smiles.pkl')\n",
    "#     Y.to_pickle('Y_smiles.pkl')"
   ]
  },
  {
   "cell_type": "code",
   "execution_count": 43,
   "metadata": {},
   "outputs": [
    {
     "data": {
      "text/html": [
       "<div>\n",
       "<style scoped>\n",
       "    .dataframe tbody tr th:only-of-type {\n",
       "        vertical-align: middle;\n",
       "    }\n",
       "\n",
       "    .dataframe tbody tr th {\n",
       "        vertical-align: top;\n",
       "    }\n",
       "\n",
       "    .dataframe thead th {\n",
       "        text-align: right;\n",
       "    }\n",
       "</style>\n",
       "<table border=\"1\" class=\"dataframe\">\n",
       "  <thead>\n",
       "    <tr style=\"text-align: right;\">\n",
       "      <th></th>\n",
       "      <th>dsstox_sid</th>\n",
       "      <th>mrgn_0</th>\n",
       "      <th>mrgn_1</th>\n",
       "      <th>mrgn_10</th>\n",
       "      <th>mrgn_100</th>\n",
       "      <th>mrgn_1000</th>\n",
       "      <th>mrgn_1001</th>\n",
       "      <th>mrgn_1002</th>\n",
       "      <th>mrgn_1003</th>\n",
       "      <th>mrgn_1004</th>\n",
       "      <th>...</th>\n",
       "      <th>mrgn_991</th>\n",
       "      <th>mrgn_992</th>\n",
       "      <th>mrgn_993</th>\n",
       "      <th>mrgn_994</th>\n",
       "      <th>mrgn_995</th>\n",
       "      <th>mrgn_996</th>\n",
       "      <th>mrgn_997</th>\n",
       "      <th>mrgn_998</th>\n",
       "      <th>mrgn_999</th>\n",
       "      <th>smiles</th>\n",
       "    </tr>\n",
       "  </thead>\n",
       "  <tbody>\n",
       "    <tr>\n",
       "      <th>0</th>\n",
       "      <td>DTXSID0020232</td>\n",
       "      <td>0</td>\n",
       "      <td>0</td>\n",
       "      <td>0</td>\n",
       "      <td>0</td>\n",
       "      <td>0</td>\n",
       "      <td>0</td>\n",
       "      <td>0</td>\n",
       "      <td>0</td>\n",
       "      <td>0</td>\n",
       "      <td>...</td>\n",
       "      <td>0</td>\n",
       "      <td>0</td>\n",
       "      <td>0</td>\n",
       "      <td>0</td>\n",
       "      <td>0</td>\n",
       "      <td>0</td>\n",
       "      <td>0</td>\n",
       "      <td>0</td>\n",
       "      <td>0</td>\n",
       "      <td>CN1C=NC2=C1C(=O)N(C)C(=O)N2C</td>\n",
       "    </tr>\n",
       "    <tr>\n",
       "      <th>1</th>\n",
       "      <td>DTXSID0020236</td>\n",
       "      <td>0</td>\n",
       "      <td>1</td>\n",
       "      <td>0</td>\n",
       "      <td>0</td>\n",
       "      <td>0</td>\n",
       "      <td>0</td>\n",
       "      <td>0</td>\n",
       "      <td>0</td>\n",
       "      <td>0</td>\n",
       "      <td>...</td>\n",
       "      <td>0</td>\n",
       "      <td>0</td>\n",
       "      <td>0</td>\n",
       "      <td>0</td>\n",
       "      <td>0</td>\n",
       "      <td>0</td>\n",
       "      <td>0</td>\n",
       "      <td>0</td>\n",
       "      <td>0</td>\n",
       "      <td>[Ca++].CC(O)C([O-])=O.CC(O)C([O-])=O</td>\n",
       "    </tr>\n",
       "    <tr>\n",
       "      <th>2</th>\n",
       "      <td>DTXSID0020280</td>\n",
       "      <td>0</td>\n",
       "      <td>1</td>\n",
       "      <td>0</td>\n",
       "      <td>0</td>\n",
       "      <td>0</td>\n",
       "      <td>0</td>\n",
       "      <td>0</td>\n",
       "      <td>0</td>\n",
       "      <td>0</td>\n",
       "      <td>...</td>\n",
       "      <td>0</td>\n",
       "      <td>0</td>\n",
       "      <td>0</td>\n",
       "      <td>0</td>\n",
       "      <td>0</td>\n",
       "      <td>0</td>\n",
       "      <td>0</td>\n",
       "      <td>0</td>\n",
       "      <td>0</td>\n",
       "      <td>[O-][N+](=O)C1=C(Cl)C=CC=C1</td>\n",
       "    </tr>\n",
       "    <tr>\n",
       "      <th>3</th>\n",
       "      <td>DTXSID0020282</td>\n",
       "      <td>0</td>\n",
       "      <td>0</td>\n",
       "      <td>0</td>\n",
       "      <td>0</td>\n",
       "      <td>0</td>\n",
       "      <td>0</td>\n",
       "      <td>0</td>\n",
       "      <td>0</td>\n",
       "      <td>0</td>\n",
       "      <td>...</td>\n",
       "      <td>0</td>\n",
       "      <td>0</td>\n",
       "      <td>0</td>\n",
       "      <td>0</td>\n",
       "      <td>0</td>\n",
       "      <td>0</td>\n",
       "      <td>0</td>\n",
       "      <td>0</td>\n",
       "      <td>0</td>\n",
       "      <td>NC1=CC(N)=C(Cl)C=C1</td>\n",
       "    </tr>\n",
       "    <tr>\n",
       "      <th>4</th>\n",
       "      <td>DTXSID0020284</td>\n",
       "      <td>0</td>\n",
       "      <td>0</td>\n",
       "      <td>0</td>\n",
       "      <td>0</td>\n",
       "      <td>0</td>\n",
       "      <td>0</td>\n",
       "      <td>0</td>\n",
       "      <td>0</td>\n",
       "      <td>0</td>\n",
       "      <td>...</td>\n",
       "      <td>0</td>\n",
       "      <td>0</td>\n",
       "      <td>0</td>\n",
       "      <td>0</td>\n",
       "      <td>0</td>\n",
       "      <td>0</td>\n",
       "      <td>0</td>\n",
       "      <td>0</td>\n",
       "      <td>0</td>\n",
       "      <td>OS(O)(=O)=O.NC1=CC=C(N)C(Cl)=C1</td>\n",
       "    </tr>\n",
       "  </tbody>\n",
       "</table>\n",
       "<p>5 rows × 2050 columns</p>\n",
       "</div>"
      ],
      "text/plain": [
       "      dsstox_sid  mrgn_0  mrgn_1  mrgn_10  mrgn_100  mrgn_1000  mrgn_1001  \\\n",
       "0  DTXSID0020232       0       0        0         0          0          0   \n",
       "1  DTXSID0020236       0       1        0         0          0          0   \n",
       "2  DTXSID0020280       0       1        0         0          0          0   \n",
       "3  DTXSID0020282       0       0        0         0          0          0   \n",
       "4  DTXSID0020284       0       0        0         0          0          0   \n",
       "\n",
       "   mrgn_1002  mrgn_1003  mrgn_1004  ...  mrgn_991  mrgn_992  mrgn_993  \\\n",
       "0          0          0          0  ...         0         0         0   \n",
       "1          0          0          0  ...         0         0         0   \n",
       "2          0          0          0  ...         0         0         0   \n",
       "3          0          0          0  ...         0         0         0   \n",
       "4          0          0          0  ...         0         0         0   \n",
       "\n",
       "   mrgn_994  mrgn_995  mrgn_996  mrgn_997  mrgn_998  mrgn_999  \\\n",
       "0         0         0         0         0         0         0   \n",
       "1         0         0         0         0         0         0   \n",
       "2         0         0         0         0         0         0   \n",
       "3         0         0         0         0         0         0   \n",
       "4         0         0         0         0         0         0   \n",
       "\n",
       "                                 smiles  \n",
       "0          CN1C=NC2=C1C(=O)N(C)C(=O)N2C  \n",
       "1  [Ca++].CC(O)C([O-])=O.CC(O)C([O-])=O  \n",
       "2           [O-][N+](=O)C1=C(Cl)C=CC=C1  \n",
       "3                   NC1=CC(N)=C(Cl)C=C1  \n",
       "4       OS(O)(=O)=O.NC1=CC=C(N)C(Cl)=C1  \n",
       "\n",
       "[5 rows x 2050 columns]"
      ]
     },
     "execution_count": 43,
     "metadata": {},
     "output_type": "execute_result"
    }
   ],
   "source": [
    "X0.head()"
   ]
  },
  {
   "cell_type": "code",
   "execution_count": 44,
   "metadata": {},
   "outputs": [
    {
     "ename": "ValueError",
     "evalue": "invalid literal for int() with base 10: 'DTXSID0020232'",
     "output_type": "error",
     "traceback": [
      "\u001b[0;31m---------------------------------------------------------------------------\u001b[0m",
      "\u001b[0;31mValueError\u001b[0m                                Traceback (most recent call last)",
      "Input \u001b[0;32mIn [44]\u001b[0m, in \u001b[0;36m<cell line: 1>\u001b[0;34m()\u001b[0m\n\u001b[0;32m----> 1\u001b[0m Y_new \u001b[38;5;241m=\u001b[39m \u001b[43mreplace_missing_data\u001b[49m\u001b[43m(\u001b[49m\u001b[43mY0\u001b[49m\u001b[43m,\u001b[49m\u001b[38;5;124;43m\"\u001b[39;49m\u001b[38;5;124;43mfill\u001b[39;49m\u001b[38;5;124;43m\"\u001b[39;49m\u001b[43m)\u001b[49m\n",
      "File \u001b[0;32m~/ipynb/ml-tox/src/mltox/db/graph_utils.py:95\u001b[0m, in \u001b[0;36mreplace_missing_data\u001b[0;34m(y, mode)\u001b[0m\n\u001b[1;32m     93\u001b[0m \u001b[38;5;28;01melif\u001b[39;00m mode \u001b[38;5;241m==\u001b[39m \u001b[38;5;28;01mNone\u001b[39;00m:\n\u001b[1;32m     94\u001b[0m     \u001b[38;5;28;01mpass\u001b[39;00m\n\u001b[0;32m---> 95\u001b[0m \u001b[38;5;28;01mreturn\u001b[39;00m \u001b[43my_new\u001b[49m\u001b[38;5;241;43m.\u001b[39;49m\u001b[43mapply\u001b[49m\u001b[43m(\u001b[49m\u001b[43mnp\u001b[49m\u001b[38;5;241;43m.\u001b[39;49m\u001b[43mint64\u001b[49m\u001b[43m)\u001b[49m\n",
      "File \u001b[0;32m/opt/miniconda3/envs/dl/lib/python3.8/site-packages/pandas/core/frame.py:8839\u001b[0m, in \u001b[0;36mDataFrame.apply\u001b[0;34m(self, func, axis, raw, result_type, args, **kwargs)\u001b[0m\n\u001b[1;32m   8828\u001b[0m \u001b[38;5;28;01mfrom\u001b[39;00m \u001b[38;5;21;01mpandas\u001b[39;00m\u001b[38;5;21;01m.\u001b[39;00m\u001b[38;5;21;01mcore\u001b[39;00m\u001b[38;5;21;01m.\u001b[39;00m\u001b[38;5;21;01mapply\u001b[39;00m \u001b[38;5;28;01mimport\u001b[39;00m frame_apply\n\u001b[1;32m   8830\u001b[0m op \u001b[38;5;241m=\u001b[39m frame_apply(\n\u001b[1;32m   8831\u001b[0m     \u001b[38;5;28mself\u001b[39m,\n\u001b[1;32m   8832\u001b[0m     func\u001b[38;5;241m=\u001b[39mfunc,\n\u001b[0;32m   (...)\u001b[0m\n\u001b[1;32m   8837\u001b[0m     kwargs\u001b[38;5;241m=\u001b[39mkwargs,\n\u001b[1;32m   8838\u001b[0m )\n\u001b[0;32m-> 8839\u001b[0m \u001b[38;5;28;01mreturn\u001b[39;00m \u001b[43mop\u001b[49m\u001b[38;5;241;43m.\u001b[39;49m\u001b[43mapply\u001b[49m\u001b[43m(\u001b[49m\u001b[43m)\u001b[49m\u001b[38;5;241m.\u001b[39m__finalize__(\u001b[38;5;28mself\u001b[39m, method\u001b[38;5;241m=\u001b[39m\u001b[38;5;124m\"\u001b[39m\u001b[38;5;124mapply\u001b[39m\u001b[38;5;124m\"\u001b[39m)\n",
      "File \u001b[0;32m/opt/miniconda3/envs/dl/lib/python3.8/site-packages/pandas/core/apply.py:727\u001b[0m, in \u001b[0;36mFrameApply.apply\u001b[0;34m(self)\u001b[0m\n\u001b[1;32m    724\u001b[0m \u001b[38;5;28;01melif\u001b[39;00m \u001b[38;5;28mself\u001b[39m\u001b[38;5;241m.\u001b[39mraw:\n\u001b[1;32m    725\u001b[0m     \u001b[38;5;28;01mreturn\u001b[39;00m \u001b[38;5;28mself\u001b[39m\u001b[38;5;241m.\u001b[39mapply_raw()\n\u001b[0;32m--> 727\u001b[0m \u001b[38;5;28;01mreturn\u001b[39;00m \u001b[38;5;28;43mself\u001b[39;49m\u001b[38;5;241;43m.\u001b[39;49m\u001b[43mapply_standard\u001b[49m\u001b[43m(\u001b[49m\u001b[43m)\u001b[49m\n",
      "File \u001b[0;32m/opt/miniconda3/envs/dl/lib/python3.8/site-packages/pandas/core/apply.py:851\u001b[0m, in \u001b[0;36mFrameApply.apply_standard\u001b[0;34m(self)\u001b[0m\n\u001b[1;32m    850\u001b[0m \u001b[38;5;28;01mdef\u001b[39;00m \u001b[38;5;21mapply_standard\u001b[39m(\u001b[38;5;28mself\u001b[39m):\n\u001b[0;32m--> 851\u001b[0m     results, res_index \u001b[38;5;241m=\u001b[39m \u001b[38;5;28;43mself\u001b[39;49m\u001b[38;5;241;43m.\u001b[39;49m\u001b[43mapply_series_generator\u001b[49m\u001b[43m(\u001b[49m\u001b[43m)\u001b[49m\n\u001b[1;32m    853\u001b[0m     \u001b[38;5;66;03m# wrap results\u001b[39;00m\n\u001b[1;32m    854\u001b[0m     \u001b[38;5;28;01mreturn\u001b[39;00m \u001b[38;5;28mself\u001b[39m\u001b[38;5;241m.\u001b[39mwrap_results(results, res_index)\n",
      "File \u001b[0;32m/opt/miniconda3/envs/dl/lib/python3.8/site-packages/pandas/core/apply.py:867\u001b[0m, in \u001b[0;36mFrameApply.apply_series_generator\u001b[0;34m(self)\u001b[0m\n\u001b[1;32m    864\u001b[0m \u001b[38;5;28;01mwith\u001b[39;00m option_context(\u001b[38;5;124m\"\u001b[39m\u001b[38;5;124mmode.chained_assignment\u001b[39m\u001b[38;5;124m\"\u001b[39m, \u001b[38;5;28;01mNone\u001b[39;00m):\n\u001b[1;32m    865\u001b[0m     \u001b[38;5;28;01mfor\u001b[39;00m i, v \u001b[38;5;129;01min\u001b[39;00m \u001b[38;5;28menumerate\u001b[39m(series_gen):\n\u001b[1;32m    866\u001b[0m         \u001b[38;5;66;03m# ignore SettingWithCopy here in case the user mutates\u001b[39;00m\n\u001b[0;32m--> 867\u001b[0m         results[i] \u001b[38;5;241m=\u001b[39m \u001b[38;5;28;43mself\u001b[39;49m\u001b[38;5;241;43m.\u001b[39;49m\u001b[43mf\u001b[49m\u001b[43m(\u001b[49m\u001b[43mv\u001b[49m\u001b[43m)\u001b[49m\n\u001b[1;32m    868\u001b[0m         \u001b[38;5;28;01mif\u001b[39;00m \u001b[38;5;28misinstance\u001b[39m(results[i], ABCSeries):\n\u001b[1;32m    869\u001b[0m             \u001b[38;5;66;03m# If we have a view on v, we need to make a copy because\u001b[39;00m\n\u001b[1;32m    870\u001b[0m             \u001b[38;5;66;03m#  series_generator will swap out the underlying data\u001b[39;00m\n\u001b[1;32m    871\u001b[0m             results[i] \u001b[38;5;241m=\u001b[39m results[i]\u001b[38;5;241m.\u001b[39mcopy(deep\u001b[38;5;241m=\u001b[39m\u001b[38;5;28;01mFalse\u001b[39;00m)\n",
      "File \u001b[0;32m/opt/miniconda3/envs/dl/lib/python3.8/site-packages/pandas/core/series.py:872\u001b[0m, in \u001b[0;36mSeries.__array__\u001b[0;34m(self, dtype)\u001b[0m\n\u001b[1;32m    825\u001b[0m \u001b[38;5;28;01mdef\u001b[39;00m \u001b[38;5;21m__array__\u001b[39m(\u001b[38;5;28mself\u001b[39m, dtype: npt\u001b[38;5;241m.\u001b[39mDTypeLike \u001b[38;5;241m|\u001b[39m \u001b[38;5;28;01mNone\u001b[39;00m \u001b[38;5;241m=\u001b[39m \u001b[38;5;28;01mNone\u001b[39;00m) \u001b[38;5;241m-\u001b[39m\u001b[38;5;241m>\u001b[39m np\u001b[38;5;241m.\u001b[39mndarray:\n\u001b[1;32m    826\u001b[0m \u001b[38;5;250m    \u001b[39m\u001b[38;5;124;03m\"\"\"\u001b[39;00m\n\u001b[1;32m    827\u001b[0m \u001b[38;5;124;03m    Return the values as a NumPy array.\u001b[39;00m\n\u001b[1;32m    828\u001b[0m \n\u001b[0;32m   (...)\u001b[0m\n\u001b[1;32m    870\u001b[0m \u001b[38;5;124;03m          dtype='datetime64[ns]')\u001b[39;00m\n\u001b[1;32m    871\u001b[0m \u001b[38;5;124;03m    \"\"\"\u001b[39;00m\n\u001b[0;32m--> 872\u001b[0m     \u001b[38;5;28;01mreturn\u001b[39;00m \u001b[43mnp\u001b[49m\u001b[38;5;241;43m.\u001b[39;49m\u001b[43masarray\u001b[49m\u001b[43m(\u001b[49m\u001b[38;5;28;43mself\u001b[39;49m\u001b[38;5;241;43m.\u001b[39;49m\u001b[43m_values\u001b[49m\u001b[43m,\u001b[49m\u001b[43m \u001b[49m\u001b[43mdtype\u001b[49m\u001b[43m)\u001b[49m\n",
      "\u001b[0;31mValueError\u001b[0m: invalid literal for int() with base 10: 'DTXSID0020232'"
     ]
    }
   ],
   "source": [
    "Y_new = replace_missing_data(Y0,\"fill\")\n"
   ]
  },
  {
   "cell_type": "code",
   "execution_count": 21,
   "metadata": {},
   "outputs": [
    {
     "data": {
      "text/html": [
       "<div>\n",
       "<style scoped>\n",
       "    .dataframe tbody tr th:only-of-type {\n",
       "        vertical-align: middle;\n",
       "    }\n",
       "\n",
       "    .dataframe tbody tr th {\n",
       "        vertical-align: top;\n",
       "    }\n",
       "\n",
       "    .dataframe thead th {\n",
       "        text-align: right;\n",
       "    }\n",
       "</style>\n",
       "<table border=\"1\" class=\"dataframe\">\n",
       "  <thead>\n",
       "    <tr style=\"text-align: right;\">\n",
       "      <th></th>\n",
       "      <th>TOX21_AR_BLA_Agonist_ch1</th>\n",
       "      <th>TOX21_AR_BLA_Agonist_ch2</th>\n",
       "      <th>TOX21_AR_BLA_Agonist_ratio</th>\n",
       "      <th>TOX21_AR_BLA_Antagonist_ch1</th>\n",
       "      <th>TOX21_AR_BLA_Antagonist_ch2</th>\n",
       "      <th>TOX21_AR_BLA_Antagonist_ratio</th>\n",
       "      <th>TOX21_AR_BLA_Antagonist_viability</th>\n",
       "      <th>TOX21_AR_LUC_MDAKB2_Agonist</th>\n",
       "      <th>TOX21_AR_LUC_MDAKB2_Antagonist_10nM_R1881</th>\n",
       "      <th>TOX21_AR_LUC_MDAKB2_Antagonist_10nM_R1881_viability</th>\n",
       "      <th>...</th>\n",
       "      <th>TOX21_p53_BLA_p3_ratio</th>\n",
       "      <th>TOX21_p53_BLA_p3_viability</th>\n",
       "      <th>TOX21_p53_BLA_p4_ch1</th>\n",
       "      <th>TOX21_p53_BLA_p4_ch2</th>\n",
       "      <th>TOX21_p53_BLA_p4_ratio</th>\n",
       "      <th>TOX21_p53_BLA_p4_viability</th>\n",
       "      <th>TOX21_p53_BLA_p5_ch1</th>\n",
       "      <th>TOX21_p53_BLA_p5_ch2</th>\n",
       "      <th>TOX21_p53_BLA_p5_ratio</th>\n",
       "      <th>TOX21_p53_BLA_p5_viability</th>\n",
       "    </tr>\n",
       "  </thead>\n",
       "  <tbody>\n",
       "    <tr>\n",
       "      <th>0</th>\n",
       "      <td>0</td>\n",
       "      <td>0</td>\n",
       "      <td>0</td>\n",
       "      <td>1</td>\n",
       "      <td>0</td>\n",
       "      <td>1</td>\n",
       "      <td>1</td>\n",
       "      <td>0</td>\n",
       "      <td>1</td>\n",
       "      <td>1</td>\n",
       "      <td>...</td>\n",
       "      <td>1</td>\n",
       "      <td>1</td>\n",
       "      <td>1</td>\n",
       "      <td>1</td>\n",
       "      <td>0</td>\n",
       "      <td>0</td>\n",
       "      <td>1</td>\n",
       "      <td>1</td>\n",
       "      <td>1</td>\n",
       "      <td>1</td>\n",
       "    </tr>\n",
       "    <tr>\n",
       "      <th>1</th>\n",
       "      <td>1</td>\n",
       "      <td>0</td>\n",
       "      <td>0</td>\n",
       "      <td>0</td>\n",
       "      <td>0</td>\n",
       "      <td>0</td>\n",
       "      <td>0</td>\n",
       "      <td>0</td>\n",
       "      <td>0</td>\n",
       "      <td>0</td>\n",
       "      <td>...</td>\n",
       "      <td>0</td>\n",
       "      <td>0</td>\n",
       "      <td>0</td>\n",
       "      <td>1</td>\n",
       "      <td>1</td>\n",
       "      <td>0</td>\n",
       "      <td>1</td>\n",
       "      <td>0</td>\n",
       "      <td>1</td>\n",
       "      <td>0</td>\n",
       "    </tr>\n",
       "    <tr>\n",
       "      <th>2</th>\n",
       "      <td>0</td>\n",
       "      <td>0</td>\n",
       "      <td>0</td>\n",
       "      <td>0</td>\n",
       "      <td>0</td>\n",
       "      <td>0</td>\n",
       "      <td>0</td>\n",
       "      <td>0</td>\n",
       "      <td>0</td>\n",
       "      <td>0</td>\n",
       "      <td>...</td>\n",
       "      <td>0</td>\n",
       "      <td>0</td>\n",
       "      <td>0</td>\n",
       "      <td>0</td>\n",
       "      <td>0</td>\n",
       "      <td>0</td>\n",
       "      <td>0</td>\n",
       "      <td>0</td>\n",
       "      <td>0</td>\n",
       "      <td>0</td>\n",
       "    </tr>\n",
       "    <tr>\n",
       "      <th>3</th>\n",
       "      <td>0</td>\n",
       "      <td>0</td>\n",
       "      <td>1</td>\n",
       "      <td>0</td>\n",
       "      <td>0</td>\n",
       "      <td>0</td>\n",
       "      <td>0</td>\n",
       "      <td>0</td>\n",
       "      <td>0</td>\n",
       "      <td>0</td>\n",
       "      <td>...</td>\n",
       "      <td>0</td>\n",
       "      <td>0</td>\n",
       "      <td>0</td>\n",
       "      <td>0</td>\n",
       "      <td>0</td>\n",
       "      <td>0</td>\n",
       "      <td>0</td>\n",
       "      <td>0</td>\n",
       "      <td>0</td>\n",
       "      <td>0</td>\n",
       "    </tr>\n",
       "    <tr>\n",
       "      <th>4</th>\n",
       "      <td>0</td>\n",
       "      <td>0</td>\n",
       "      <td>0</td>\n",
       "      <td>0</td>\n",
       "      <td>1</td>\n",
       "      <td>1</td>\n",
       "      <td>0</td>\n",
       "      <td>0</td>\n",
       "      <td>0</td>\n",
       "      <td>0</td>\n",
       "      <td>...</td>\n",
       "      <td>0</td>\n",
       "      <td>0</td>\n",
       "      <td>1</td>\n",
       "      <td>0</td>\n",
       "      <td>1</td>\n",
       "      <td>0</td>\n",
       "      <td>0</td>\n",
       "      <td>0</td>\n",
       "      <td>1</td>\n",
       "      <td>0</td>\n",
       "    </tr>\n",
       "    <tr>\n",
       "      <th>...</th>\n",
       "      <td>...</td>\n",
       "      <td>...</td>\n",
       "      <td>...</td>\n",
       "      <td>...</td>\n",
       "      <td>...</td>\n",
       "      <td>...</td>\n",
       "      <td>...</td>\n",
       "      <td>...</td>\n",
       "      <td>...</td>\n",
       "      <td>...</td>\n",
       "      <td>...</td>\n",
       "      <td>...</td>\n",
       "      <td>...</td>\n",
       "      <td>...</td>\n",
       "      <td>...</td>\n",
       "      <td>...</td>\n",
       "      <td>...</td>\n",
       "      <td>...</td>\n",
       "      <td>...</td>\n",
       "      <td>...</td>\n",
       "      <td>...</td>\n",
       "    </tr>\n",
       "    <tr>\n",
       "      <th>8840</th>\n",
       "      <td>0</td>\n",
       "      <td>0</td>\n",
       "      <td>0</td>\n",
       "      <td>1</td>\n",
       "      <td>0</td>\n",
       "      <td>1</td>\n",
       "      <td>0</td>\n",
       "      <td>0</td>\n",
       "      <td>0</td>\n",
       "      <td>0</td>\n",
       "      <td>...</td>\n",
       "      <td>1</td>\n",
       "      <td>1</td>\n",
       "      <td>1</td>\n",
       "      <td>0</td>\n",
       "      <td>1</td>\n",
       "      <td>1</td>\n",
       "      <td>1</td>\n",
       "      <td>0</td>\n",
       "      <td>1</td>\n",
       "      <td>1</td>\n",
       "    </tr>\n",
       "    <tr>\n",
       "      <th>8841</th>\n",
       "      <td>0</td>\n",
       "      <td>0</td>\n",
       "      <td>0</td>\n",
       "      <td>0</td>\n",
       "      <td>0</td>\n",
       "      <td>0</td>\n",
       "      <td>0</td>\n",
       "      <td>0</td>\n",
       "      <td>0</td>\n",
       "      <td>0</td>\n",
       "      <td>...</td>\n",
       "      <td>0</td>\n",
       "      <td>0</td>\n",
       "      <td>1</td>\n",
       "      <td>0</td>\n",
       "      <td>0</td>\n",
       "      <td>0</td>\n",
       "      <td>0</td>\n",
       "      <td>0</td>\n",
       "      <td>0</td>\n",
       "      <td>0</td>\n",
       "    </tr>\n",
       "    <tr>\n",
       "      <th>8842</th>\n",
       "      <td>0</td>\n",
       "      <td>0</td>\n",
       "      <td>0</td>\n",
       "      <td>0</td>\n",
       "      <td>0</td>\n",
       "      <td>0</td>\n",
       "      <td>0</td>\n",
       "      <td>0</td>\n",
       "      <td>0</td>\n",
       "      <td>0</td>\n",
       "      <td>...</td>\n",
       "      <td>1</td>\n",
       "      <td>0</td>\n",
       "      <td>0</td>\n",
       "      <td>0</td>\n",
       "      <td>0</td>\n",
       "      <td>0</td>\n",
       "      <td>0</td>\n",
       "      <td>0</td>\n",
       "      <td>0</td>\n",
       "      <td>0</td>\n",
       "    </tr>\n",
       "    <tr>\n",
       "      <th>8843</th>\n",
       "      <td>0</td>\n",
       "      <td>0</td>\n",
       "      <td>0</td>\n",
       "      <td>0</td>\n",
       "      <td>0</td>\n",
       "      <td>0</td>\n",
       "      <td>0</td>\n",
       "      <td>1</td>\n",
       "      <td>0</td>\n",
       "      <td>0</td>\n",
       "      <td>...</td>\n",
       "      <td>1</td>\n",
       "      <td>0</td>\n",
       "      <td>0</td>\n",
       "      <td>0</td>\n",
       "      <td>0</td>\n",
       "      <td>0</td>\n",
       "      <td>0</td>\n",
       "      <td>0</td>\n",
       "      <td>0</td>\n",
       "      <td>0</td>\n",
       "    </tr>\n",
       "    <tr>\n",
       "      <th>8844</th>\n",
       "      <td>0</td>\n",
       "      <td>1</td>\n",
       "      <td>0</td>\n",
       "      <td>0</td>\n",
       "      <td>0</td>\n",
       "      <td>0</td>\n",
       "      <td>1</td>\n",
       "      <td>1</td>\n",
       "      <td>0</td>\n",
       "      <td>0</td>\n",
       "      <td>...</td>\n",
       "      <td>0</td>\n",
       "      <td>0</td>\n",
       "      <td>0</td>\n",
       "      <td>0</td>\n",
       "      <td>0</td>\n",
       "      <td>0</td>\n",
       "      <td>0</td>\n",
       "      <td>1</td>\n",
       "      <td>0</td>\n",
       "      <td>0</td>\n",
       "    </tr>\n",
       "  </tbody>\n",
       "</table>\n",
       "<p>8495 rows × 78 columns</p>\n",
       "</div>"
      ],
      "text/plain": [
       "      TOX21_AR_BLA_Agonist_ch1  TOX21_AR_BLA_Agonist_ch2  \\\n",
       "0                            0                         0   \n",
       "1                            1                         0   \n",
       "2                            0                         0   \n",
       "3                            0                         0   \n",
       "4                            0                         0   \n",
       "...                        ...                       ...   \n",
       "8840                         0                         0   \n",
       "8841                         0                         0   \n",
       "8842                         0                         0   \n",
       "8843                         0                         0   \n",
       "8844                         0                         1   \n",
       "\n",
       "      TOX21_AR_BLA_Agonist_ratio  TOX21_AR_BLA_Antagonist_ch1  \\\n",
       "0                              0                            1   \n",
       "1                              0                            0   \n",
       "2                              0                            0   \n",
       "3                              1                            0   \n",
       "4                              0                            0   \n",
       "...                          ...                          ...   \n",
       "8840                           0                            1   \n",
       "8841                           0                            0   \n",
       "8842                           0                            0   \n",
       "8843                           0                            0   \n",
       "8844                           0                            0   \n",
       "\n",
       "      TOX21_AR_BLA_Antagonist_ch2  TOX21_AR_BLA_Antagonist_ratio  \\\n",
       "0                               0                              1   \n",
       "1                               0                              0   \n",
       "2                               0                              0   \n",
       "3                               0                              0   \n",
       "4                               1                              1   \n",
       "...                           ...                            ...   \n",
       "8840                            0                              1   \n",
       "8841                            0                              0   \n",
       "8842                            0                              0   \n",
       "8843                            0                              0   \n",
       "8844                            0                              0   \n",
       "\n",
       "      TOX21_AR_BLA_Antagonist_viability  TOX21_AR_LUC_MDAKB2_Agonist  \\\n",
       "0                                     1                            0   \n",
       "1                                     0                            0   \n",
       "2                                     0                            0   \n",
       "3                                     0                            0   \n",
       "4                                     0                            0   \n",
       "...                                 ...                          ...   \n",
       "8840                                  0                            0   \n",
       "8841                                  0                            0   \n",
       "8842                                  0                            0   \n",
       "8843                                  0                            1   \n",
       "8844                                  1                            1   \n",
       "\n",
       "      TOX21_AR_LUC_MDAKB2_Antagonist_10nM_R1881  \\\n",
       "0                                             1   \n",
       "1                                             0   \n",
       "2                                             0   \n",
       "3                                             0   \n",
       "4                                             0   \n",
       "...                                         ...   \n",
       "8840                                          0   \n",
       "8841                                          0   \n",
       "8842                                          0   \n",
       "8843                                          0   \n",
       "8844                                          0   \n",
       "\n",
       "      TOX21_AR_LUC_MDAKB2_Antagonist_10nM_R1881_viability  ...  \\\n",
       "0                                                     1    ...   \n",
       "1                                                     0    ...   \n",
       "2                                                     0    ...   \n",
       "3                                                     0    ...   \n",
       "4                                                     0    ...   \n",
       "...                                                 ...    ...   \n",
       "8840                                                  0    ...   \n",
       "8841                                                  0    ...   \n",
       "8842                                                  0    ...   \n",
       "8843                                                  0    ...   \n",
       "8844                                                  0    ...   \n",
       "\n",
       "      TOX21_p53_BLA_p3_ratio  TOX21_p53_BLA_p3_viability  \\\n",
       "0                          1                           1   \n",
       "1                          0                           0   \n",
       "2                          0                           0   \n",
       "3                          0                           0   \n",
       "4                          0                           0   \n",
       "...                      ...                         ...   \n",
       "8840                       1                           1   \n",
       "8841                       0                           0   \n",
       "8842                       1                           0   \n",
       "8843                       1                           0   \n",
       "8844                       0                           0   \n",
       "\n",
       "      TOX21_p53_BLA_p4_ch1  TOX21_p53_BLA_p4_ch2  TOX21_p53_BLA_p4_ratio  \\\n",
       "0                        1                     1                       0   \n",
       "1                        0                     1                       1   \n",
       "2                        0                     0                       0   \n",
       "3                        0                     0                       0   \n",
       "4                        1                     0                       1   \n",
       "...                    ...                   ...                     ...   \n",
       "8840                     1                     0                       1   \n",
       "8841                     1                     0                       0   \n",
       "8842                     0                     0                       0   \n",
       "8843                     0                     0                       0   \n",
       "8844                     0                     0                       0   \n",
       "\n",
       "      TOX21_p53_BLA_p4_viability  TOX21_p53_BLA_p5_ch1  TOX21_p53_BLA_p5_ch2  \\\n",
       "0                              0                     1                     1   \n",
       "1                              0                     1                     0   \n",
       "2                              0                     0                     0   \n",
       "3                              0                     0                     0   \n",
       "4                              0                     0                     0   \n",
       "...                          ...                   ...                   ...   \n",
       "8840                           1                     1                     0   \n",
       "8841                           0                     0                     0   \n",
       "8842                           0                     0                     0   \n",
       "8843                           0                     0                     0   \n",
       "8844                           0                     0                     1   \n",
       "\n",
       "      TOX21_p53_BLA_p5_ratio  TOX21_p53_BLA_p5_viability  \n",
       "0                          1                           1  \n",
       "1                          1                           0  \n",
       "2                          0                           0  \n",
       "3                          0                           0  \n",
       "4                          1                           0  \n",
       "...                      ...                         ...  \n",
       "8840                       1                           1  \n",
       "8841                       0                           0  \n",
       "8842                       0                           0  \n",
       "8843                       0                           0  \n",
       "8844                       0                           0  \n",
       "\n",
       "[8495 rows x 78 columns]"
      ]
     },
     "execution_count": 21,
     "metadata": {},
     "output_type": "execute_result"
    }
   ],
   "source": [
    "Y_new"
   ]
  },
  {
   "cell_type": "code",
   "execution_count": 22,
   "metadata": {},
   "outputs": [
    {
     "name": "stderr",
     "output_type": "stream",
     "text": [
      "[09:34:08] WARNING: not removing hydrogen atom without neighbors\n",
      "[09:34:13] WARNING: not removing hydrogen atom without neighbors\n",
      "[09:34:13] WARNING: not removing hydrogen atom without neighbors\n"
     ]
    }
   ],
   "source": [
    "smiles = X.values.tolist()\n",
    "\n",
    "my_smiles = sum(smiles,[])\n",
    "\n",
    "x = my_smiles\n",
    "y = Y_new\n",
    "dataset = dc.data.NumpyDataset(x, y)\n",
    "trans = dc.trans.FeaturizationTransformer(dataset, dc.feat.ConvMolFeaturizer())\n",
    "dataset = trans.transform(dataset)"
   ]
  },
  {
   "cell_type": "code",
   "execution_count": 20,
   "metadata": {},
   "outputs": [
    {
     "name": "stderr",
     "output_type": "stream",
     "text": [
      "2022-11-15 16:35:51.964048: W tensorflow/stream_executor/platform/default/dso_loader.cc:64] Could not load dynamic library 'libcuda.so.1'; dlerror: libcuda.so.1: cannot open shared object file: No such file or directory\n",
      "2022-11-15 16:35:51.965278: W tensorflow/stream_executor/cuda/cuda_driver.cc:263] failed call to cuInit: UNKNOWN ERROR (303)\n",
      "2022-11-15 16:35:51.965331: I tensorflow/stream_executor/cuda/cuda_diagnostics.cc:156] kernel driver does not appear to be running on this host (v2626umcth033.rtord.epa.gov): /proc/driver/nvidia/version does not exist\n"
     ]
    }
   ],
   "source": [
    "tf.random.set_seed(42)\n",
    "random.seed(42)\n",
    "np.random.seed(42)\n",
    "splitter = dc.splits.RandomStratifiedSplitter()\n",
    "\n",
    "i = 0\n",
    "train_dataset, _ ,test_dataset = splitter.train_valid_test_split(dataset,frac_train=0.8,frac_test=0.2,frac_valid=0.0,seed=i,               \n",
    "                                                            test_dir=f'{os.getcwd()}/tmp_test_data/',\n",
    "                                                            train_dir=f'{os.getcwd()}/tmp_train_data/',\n",
    "                                                            valid_dir=f'{os.getcwd()}/tmp_valid_data/')\n",
    "n_tasks = train_dataset.y.shape[1]\n",
    "model = dc.models.GraphConvModel(n_tasks, mode='classification',model_dir=f'{os.getcwd()}/tmp_gcn_model/',tensorboard=True)\n",
    "\n"
   ]
  },
  {
   "cell_type": "code",
   "execution_count": null,
   "metadata": {},
   "outputs": [],
   "source": [
    "import glob, os\n",
    "\n",
    "tf.random.set_seed(42)\n",
    "random.seed(42)\n",
    "np.random.seed(42)\n",
    "splitter = dc.splits.RandomStratifiedSplitter()\n",
    "\n",
    "dfs = []\n",
    "for i in range(20):\n",
    "    train_dataset, _ ,test_dataset = splitter.train_valid_test_split(dataset,frac_train=0.8,frac_test=0.2,frac_valid=0.0,seed=i,               \n",
    "                                                                test_dir=f'{os.getcwd()}/tmp_test_data/',\n",
    "                                                                train_dir=f'{os.getcwd()}/tmp_train_data/',\n",
    "                                                                valid_dir=f'{os.getcwd()}/tmp_valid_data/')\n",
    "    n_tasks = train_dataset.y.shape[1]\n",
    "    model = dc.models.GraphConvModel(n_tasks, mode='classification',model_dir=f'{os.getcwd()}/tmp_gc_model/')\n",
    "    model.fit(train_dataset,nb_epoch=50)\n",
    "\n",
    "    for f in glob.glob(\"/tmp/__autograph_generated_file*\"):\n",
    "        os.remove(f)\n",
    "\n",
    "    Assay_list = Y_new.columns.tolist()\n",
    "    y_true = test_dataset.y\n",
    "    y_pred = model.predict(test_dataset)\n",
    "    metric = dc.metrics.roc_auc_score\n",
    "    scores = []\n",
    "    for i in range(n_tasks):\n",
    "        score = metric(dc.metrics.to_one_hot(y_true[:,i]), y_pred[:,i])\n",
    "        scores.append([Assay_list[i],score])\n",
    "\n",
    "    df = pd.DataFrame(scores)\n",
    "    dfs.append(df)\n"
   ]
  },
  {
   "cell_type": "code",
   "execution_count": 22,
   "metadata": {},
   "outputs": [
    {
     "name": "stderr",
     "output_type": "stream",
     "text": [
      "/tmp/ipykernel_1926290/1438758229.py:4: FutureWarning: Dropping of nuisance columns in DataFrame reductions (with 'numeric_only=None') is deprecated; in a future version this will raise TypeError.  Select only valid columns before calling the reduction.\n",
      "  df_20.mean()\n"
     ]
    },
    {
     "data": {
      "text/plain": [
       "1    0.707232\n",
       "dtype: float64"
      ]
     },
     "execution_count": 22,
     "metadata": {},
     "output_type": "execute_result"
    }
   ],
   "source": [
    "df_20 = pd.concat(dfs)\n",
    "df_20.to_pickle('../tox21/gcn_20_50epoch_ltea.pkl')\n",
    "\n",
    "df_20.mean()"
   ]
  },
  {
   "cell_type": "markdown",
   "metadata": {},
   "source": [
    "Other Models -- WEAVE\n"
   ]
  },
  {
   "cell_type": "code",
   "execution_count": 23,
   "metadata": {},
   "outputs": [
    {
     "name": "stderr",
     "output_type": "stream",
     "text": [
      "[09:35:13] WARNING: not removing hydrogen atom without neighbors\n",
      "[09:35:37] WARNING: not removing hydrogen atom without neighbors\n",
      "[09:35:37] WARNING: not removing hydrogen atom without neighbors\n"
     ]
    }
   ],
   "source": [
    "featurizer = dc.feat.WeaveFeaturizer()\n",
    "x = featurizer(my_smiles)\n",
    "y = Y_new\n",
    "dataset = dc.data.NumpyDataset(x, y)"
   ]
  },
  {
   "cell_type": "code",
   "execution_count": null,
   "metadata": {},
   "outputs": [],
   "source": [
    "import glob, os\n",
    "\n",
    "tf.random.set_seed(42)\n",
    "random.seed(42)\n",
    "np.random.seed(42)\n",
    "splitter = dc.splits.RandomStratifiedSplitter()\n",
    "\n",
    "dfs = []\n",
    "for i in range(10):\n",
    "    train_dataset, _ ,test_dataset = splitter.train_valid_test_split(dataset,frac_train=0.8,frac_test=0.2,frac_valid=0.0,seed=i,               \n",
    "                                                                test_dir=f'{os.getcwd()}/tmp_test_data/',\n",
    "                                                                train_dir=f'{os.getcwd()}/tmp_train_data/',\n",
    "                                                                valid_dir=f'{os.getcwd()}/tmp_valid_data/')\n",
    "    n_tasks = train_dataset.y.shape[1]\n",
    "    model = dc.models.WeaveModel(n_tasks=n_tasks, n_weave=2,mode=\"classification\",model_dir=f'{os.getcwd()}/tmp_weave_model/',tensorboard=True)\n",
    "    model.fit(train_dataset,nb_epoch=5)\n",
    "\n",
    "    for f in glob.glob(\"/tmp/__autograph_generated_file*\"):\n",
    "        os.remove(f)\n",
    "\n",
    "    Assay_list = Y_new.columns.tolist()\n",
    "    y_true = test_dataset.y\n",
    "    y_pred = model.predict(test_dataset)\n",
    "    metric = dc.metrics.roc_auc_score\n",
    "    scores = []\n",
    "    for i in range(n_tasks):\n",
    "        score = metric(dc.metrics.to_one_hot(y_true[:,i]), y_pred[:,i])\n",
    "        scores.append([Assay_list[i],score])\n",
    "\n",
    "    df = pd.DataFrame(scores)\n",
    "    dfs.append(df)\n"
   ]
  },
  {
   "cell_type": "code",
   "execution_count": 40,
   "metadata": {},
   "outputs": [
    {
     "name": "stderr",
     "output_type": "stream",
     "text": [
      "/tmp/ipykernel_2205375/2598201103.py:3: FutureWarning: Dropping of nuisance columns in DataFrame reductions (with 'numeric_only=None') is deprecated; in a future version this will raise TypeError.  Select only valid columns before calling the reduction.\n",
      "  df_20.mean()\n"
     ]
    },
    {
     "data": {
      "text/plain": [
       "1    0.679904\n",
       "dtype: float64"
      ]
     },
     "execution_count": 40,
     "metadata": {},
     "output_type": "execute_result"
    }
   ],
   "source": [
    "df_20 = pd.concat(dfs)\n",
    "\n",
    "df_20.mean()"
   ]
  },
  {
   "cell_type": "code",
   "execution_count": 41,
   "metadata": {},
   "outputs": [
    {
     "name": "stderr",
     "output_type": "stream",
     "text": [
      "/tmp/ipykernel_2205375/1293243723.py:4: FutureWarning: Dropping of nuisance columns in DataFrame reductions (with 'numeric_only=None') is deprecated; in a future version this will raise TypeError.  Select only valid columns before calling the reduction.\n",
      "  df_20.mean()\n"
     ]
    },
    {
     "data": {
      "text/plain": [
       "1    0.679904\n",
       "dtype: float64"
      ]
     },
     "execution_count": 41,
     "metadata": {},
     "output_type": "execute_result"
    }
   ],
   "source": [
    "\n",
    "df_20 = pd.concat(dfs)\n",
    "df_20.to_pickle('../tox21/weave_20_50.pkl')\n",
    "\n",
    "df_20.mean()"
   ]
  },
  {
   "cell_type": "code",
   "execution_count": 38,
   "metadata": {},
   "outputs": [
    {
     "data": {
      "text/plain": [
       "1    0.057397\n",
       "dtype: float64"
      ]
     },
     "execution_count": 38,
     "metadata": {},
     "output_type": "execute_result"
    }
   ],
   "source": [
    "df = pd.read_pickle('gcn_20_50epoch.pkl').groupby(0).mean()\n",
    "\n",
    "df.std()"
   ]
  },
  {
   "cell_type": "code",
   "execution_count": null,
   "metadata": {},
   "outputs": [],
   "source": [
    "model = dc.models.WeaveModel(n_tasks=n_tasks, n_weave=2, fully_connected_layer_sizes=[2000, 1000],mode=\"classification\",modeldir=f'{os.getcwd()}/tmp_gc_model/')\n"
   ]
  },
  {
   "cell_type": "code",
   "execution_count": 11,
   "metadata": {},
   "outputs": [
    {
     "data": {
      "text/plain": [
       "1    0.706963\n",
       "dtype: float64"
      ]
     },
     "execution_count": 11,
     "metadata": {},
     "output_type": "execute_result"
    }
   ],
   "source": [
    "import seaborn as sns\n",
    "import pandas as pd\n",
    "\n",
    "df = pd.read_pickle('../BSK/weave_20_10.pkl')\n",
    "\n",
    "df.groupby(0).mean().mean()"
   ]
  },
  {
   "cell_type": "code",
   "execution_count": 37,
   "metadata": {},
   "outputs": [
    {
     "data": {
      "text/plain": [
       "(0.5, 0.8)"
      ]
     },
     "execution_count": 37,
     "metadata": {},
     "output_type": "execute_result"
    },
    {
     "data": {
      "image/png": "[encoded data removed]",
      "text/plain": [
       "<Figure size 648x432 with 1 Axes>"
      ]
     },
     "metadata": {},
     "output_type": "display_data"
    }
   ],
   "source": [
    "\n",
    "\n",
    "sns.set(rc={\"figure.figsize\":(9, 6)}) \n",
    "g = sns.histplot(df,bins=20)\n",
    "g.set_xlabel('ROC AUC',fontsize=14)\n",
    "g.set_ylabel('Assay Count',fontsize=14)\n",
    "g.set_title('Distribution of ROC-AUC For GCN across assays \\n (missing data replaced with 0)',fontsize=20)\n",
    "g.set_xlim(0.5,0.8)"
   ]
  },
  {
   "cell_type": "code",
   "execution_count": 101,
   "metadata": {},
   "outputs": [],
   "source": [
    "Assay_list = Y_new.columns.tolist()\n",
    "y_true = test_dataset.y\n",
    "y_pred = model.predict(test_dataset)\n",
    "metric = dc.metrics.roc_auc_score\n",
    "scores = []\n",
    "for i in range(n_tasks):\n",
    "    score = metric(dc.metrics.to_one_hot(y_true[:,i]), y_pred[:,i])\n",
    "    scores.append([Assay_list[i],score])"
   ]
  },
  {
   "cell_type": "code",
   "execution_count": null,
   "metadata": {},
   "outputs": [],
   "source": []
  },
  {
   "cell_type": "markdown",
   "metadata": {},
   "source": [
    "# "
   ]
  }
 ],
 "metadata": {
  "kernelspec": {
   "display_name": "dl",
   "language": "python",
   "name": "dl"
  },
  "language_info": {
   "codemirror_mode": {
    "name": "ipython",
    "version": 3
   },
   "file_extension": ".py",
   "mimetype": "text/x-python",
   "name": "python",
   "nbconvert_exporter": "python",
   "pygments_lexer": "ipython3",
   "version": "3.8.13"
  },
  "vscode": {
   "interpreter": {
    "hash": "4186525184191ece2b32d9d47d0f5b9c6c11fb366e3f1e5fd6f0c212286a3113"
   }
  }
 },
 "nbformat": 4,
 "nbformat_minor": 4
}
